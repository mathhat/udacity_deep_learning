{
 "cells": [
  {
   "cell_type": "code",
   "execution_count": 58,
   "metadata": {
    "cellView": "both",
    "colab": {
     "autoexec": {
      "startup": false,
      "wait_interval": 0
     }
    },
    "colab_type": "code",
    "id": "JLpLa8Jt7Vu4"
   },
   "outputs": [],
   "source": [
    "# These are all the modules we'll be using later. Make sure you can import them\n",
    "# before proceeding further.\n",
    "from __future__ import print_function\n",
    "import numpy as np\n",
    "import tensorflow as tf\n",
    "from six.moves import cPickle as pickle\n",
    "from six.moves import range"
   ]
  },
  {
   "cell_type": "code",
   "execution_count": 59,
   "metadata": {
    "cellView": "both",
    "colab": {
     "autoexec": {
      "startup": false,
      "wait_interval": 0
     },
     "output_extras": [
      {
       "item_id": 1
      }
     ]
    },
    "colab_type": "code",
    "executionInfo": {
     "elapsed": 19456,
     "status": "ok",
     "timestamp": 1449847956073,
     "user": {
      "color": "",
      "displayName": "",
      "isAnonymous": false,
      "isMe": true,
      "permissionId": "",
      "photoUrl": "",
      "sessionId": "0",
      "userId": ""
     },
     "user_tz": 480
    },
    "id": "y3-cj1bpmuxc",
    "outputId": "0ddb1607-1fc4-4ddb-de28-6c7ab7fb0c33"
   },
   "outputs": [
    {
     "name": "stdout",
     "output_type": "stream",
     "text": [
      "Training set (200000, 28, 28) (200000,)\n",
      "Validation set (8902, 28, 28) (8902,)\n",
      "Test set (8695, 28, 28) (8695,)\n"
     ]
    }
   ],
   "source": [
    "pickle_file = 'notMNIST_sanit.pickle'\n",
    "\n",
    "with open(pickle_file, 'rb') as f:\n",
    "  save = pickle.load(f)\n",
    "  train_dataset = save['train_dataset']\n",
    "  train_labels = save['train_labels']\n",
    "  valid_dataset = save['valid_dataset']\n",
    "  valid_labels = save['valid_labels']\n",
    "  test_dataset = save['test_dataset']\n",
    "  test_labels = save['test_labels']\n",
    "  del save  # hint to help gc free up memory\n",
    "  print('Training set', train_dataset.shape, train_labels.shape)\n",
    "  print('Validation set', valid_dataset.shape, valid_labels.shape)\n",
    "  print('Test set', test_dataset.shape, test_labels.shape)"
   ]
  },
  {
   "cell_type": "markdown",
   "metadata": {
    "colab_type": "text",
    "id": "L7aHrm6nGDMB"
   },
   "source": [
    "Reformat into a shape that's more adapted to the models we're going to train:\n",
    "- data as a flat matrix,\n",
    "- labels as float 1-hot encodings."
   ]
  },
  {
   "cell_type": "code",
   "execution_count": 60,
   "metadata": {
    "cellView": "both",
    "colab": {
     "autoexec": {
      "startup": false,
      "wait_interval": 0
     },
     "output_extras": [
      {
       "item_id": 1
      }
     ]
    },
    "colab_type": "code",
    "executionInfo": {
     "elapsed": 19723,
     "status": "ok",
     "timestamp": 1449847956364,
     "user": {
      "color": "",
      "displayName": "",
      "isAnonymous": false,
      "isMe": true,
      "permissionId": "",
      "photoUrl": "",
      "sessionId": "0",
      "userId": ""
     },
     "user_tz": 480
    },
    "id": "IRSyYiIIGIzS",
    "outputId": "2ba0fc75-1487-4ace-a562-cf81cae82793"
   },
   "outputs": [
    {
     "name": "stdout",
     "output_type": "stream",
     "text": [
      "Training set (200000, 784) (200000,)\n",
      "Validation set (8902, 784) (8902,)\n",
      "Test set (8695, 784) (8695,)\n",
      "[5 0 6 9 0]\n"
     ]
    }
   ],
   "source": [
    "image_size = 28\n",
    "seq_length = 5\n",
    "num_labels = 11\n",
    "\n",
    "def reformat(dataset, labels):\n",
    "  dataset = dataset.reshape((-1, image_size * image_size)).astype(np.float32)\n",
    "  # Map 0 to [1.0, 0.0, 0.0 ...], 1 to [0.0, 1.0, 0.0 ...]\n",
    "  #labels = (np.arange(num_labels) == labels[:,None]).astype(np.float32)\n",
    "  return dataset, labels\n",
    "train_dataset, train_labels = reformat(train_dataset, train_labels)\n",
    "valid_dataset, valid_labels = reformat(valid_dataset, valid_labels)\n",
    "test_dataset, test_labels = reformat(test_dataset, test_labels)\n",
    "print('Training set', train_dataset.shape, train_labels.shape)\n",
    "print('Validation set', valid_dataset.shape, valid_labels.shape)\n",
    "print('Test set', test_dataset.shape, test_labels.shape)\n",
    "print (test_labels[-5:])"
   ]
  },
  {
   "cell_type": "code",
   "execution_count": 61,
   "metadata": {},
   "outputs": [
    {
     "name": "stdout",
     "output_type": "stream",
     "text": [
      "(19872, 3920)   (19872, 5)\n",
      "(3453, 3920)   (3453, 5)\n"
     ]
    }
   ],
   "source": [
    "def resequencer(dataset_array,label_array,seq_length,image_size):\n",
    "    i = 0\n",
    "    new_dataset = []\n",
    "    new_labels  = []\n",
    "    increment = image_size*image_size\n",
    "    blank = np.zeros(num_labels)\n",
    "    blank[-1] = 1\n",
    "    while i < dataset_array.shape[0]-seq_length:\n",
    "        image = np.zeros(((seq_length*image_size*image_size)))\n",
    "        label = np.ones((seq_length))*11\n",
    "        seq_len = np.random.randint(1,seq_length)\n",
    "        for j in range(seq_len):\n",
    "            image[j*increment:(j+1)*increment] = dataset_array[i]\n",
    "            label[j] = label_array[j]\n",
    "            i += 1\n",
    "\n",
    "        '''One hot encoding method\n",
    "        for j in range(seq_len):\n",
    "            image[j*increment:(j+1)*increment] = dataset_array[i]\n",
    "            label[j*num_labels:(j+1)*num_labels] = label_array[i]\n",
    "            i += 1\n",
    "        if seq_len < 4:\n",
    "            for k in range(j+1,seq_length):\n",
    "                label[k*num_labels:(k+1)*num_labels] = blank\n",
    "        '''\n",
    "        new_dataset.append(image)\n",
    "        new_labels.append(label)\n",
    "    return np.asarray(new_dataset,dtype=np.float32), np.asarray(new_labels,dtype=np.float32)\n",
    "train_dataset, train_labels = resequencer(train_dataset[:50000], train_labels[:50000],seq_length,image_size)\n",
    "test_dataset, test_labels = resequencer(test_dataset, test_labels,seq_length,image_size)\n",
    "valid_dataset, valid_labels = resequencer(valid_dataset, valid_labels,seq_length,image_size)\n",
    "print(train_dataset.shape,\" \",train_labels.shape)\n",
    "print(test_dataset.shape,\" \", test_labels.shape)\n"
   ]
  },
  {
   "cell_type": "markdown",
   "metadata": {
    "colab_type": "text",
    "id": "nCLVqyQ5vPPH"
   },
   "source": [
    "We're first going to train a multinomial logistic regression using simple gradient descent.\n",
    "\n",
    "TensorFlow works like this:\n",
    "* First you describe the computation that you want to see performed: what the inputs, the variables, and the operations look like. These get created as nodes over a computation graph. This description is all contained within the block below:\n",
    "\n",
    "      with graph.as_default():\n",
    "          ...\n",
    "\n",
    "* Then you can run the operations on this graph as many times as you want by calling `session.run()`, providing it outputs to fetch from the graph that get returned. This runtime operation is all contained in the block below:\n",
    "\n",
    "      with tf.Session(graph=graph) as session:\n",
    "          ...\n",
    "\n",
    "Let's load all the data into TensorFlow and build the computation graph corresponding to our training:"
   ]
  },
  {
   "cell_type": "markdown",
   "metadata": {
    "colab_type": "text",
    "id": "x68f-hxRGm3H"
   },
   "source": [
    "Let's now switch to stochastic gradient descent training instead, which is much faster.\n",
    "\n",
    "The graph will be similar, except that instead of holding all the training data into a constant node, we create a `Placeholder` node which will be fed actual data at every call of `session.run()`."
   ]
  },
  {
   "cell_type": "code",
   "execution_count": 99,
   "metadata": {
    "cellView": "both",
    "colab": {
     "autoexec": {
      "startup": false,
      "wait_interval": 0
     }
    },
    "colab_type": "code",
    "id": "qhPMzWYRGrzM"
   },
   "outputs": [],
   "source": [
    "batch_size = 128\n",
    "beta1 = 0.001\n",
    "beta2 = 0.001\n",
    "beta3 = 0.001\n",
    "hidden = 1024*2\n",
    "graph = tf.Graph()\n",
    "with graph.as_default():\n",
    "\n",
    "  # Input data. For the training data, we use a placeholder that will be fed\n",
    "  # at run time with a training minibatch.\n",
    "  tf_train_dataset = tf.placeholder(tf.float32,\n",
    "                                    shape=(batch_size, seq_length*image_size * image_size))\n",
    "  tf_train_labels = tf.placeholder(tf.float32, shape=(batch_size, seq_length))\n",
    "  tf_valid_dataset = tf.constant(valid_dataset)\n",
    "  tf_test_dataset = tf.constant(test_dataset)\n",
    "  \n",
    "  # Variables.\n",
    "  weights = tf.Variable(\n",
    "    tf.truncated_normal([seq_length*image_size * image_size,hidden ]))\n",
    "  biases = tf.Variable(tf.zeros([hidden]))\n",
    "\n",
    "  # Variables2,\n",
    "  weights2 = tf.Variable(\n",
    "    tf.truncated_normal([hidden, hidden]))\n",
    "  biases2 = tf.Variable(tf.zeros([hidden]))\n",
    "  \n",
    "    # Variables2,\n",
    "  weights3 = tf.Variable(\n",
    "    tf.truncated_normal([hidden, seq_length]))\n",
    "  biases3 = tf.Variable(tf.zeros([seq_length]))\n",
    "    \n",
    "  # Training computation.\n",
    "  logits = tf.matmul(tf_train_dataset, weights) + biases\n",
    "  logits = tf.matmul(tf.nn.relu(logits),weights2) + biases2\n",
    "  logits = tf.matmul(tf.nn.relu(logits),weights3) + biases3\n",
    "  loss = tf.reduce_mean(\n",
    "    tf.nn.softmax_cross_entropy_with_logits_v2(labels=tf_train_labels, logits=logits))+ beta1*tf.nn.l2_loss(weights) + beta2*tf.nn.l2_loss(weights2)+ beta3*tf.nn.l2_loss(weights3)\n",
    "  \n",
    "  # Optimizer.\n",
    "  global_step = tf.Variable(0)  # count the number of steps taken.\n",
    "  learning_rate = tf.train.exponential_decay(0.000000025/2, global_step,100,0.98,staircase=True)\n",
    "  optimizer = tf.train.GradientDescentOptimizer(learning_rate).minimize(loss, global_step=global_step)\n",
    "  \n",
    "  \n",
    "  #optimizer = tf.train.GradientDescentOptimizer(0.00000001).minimize(loss)\n",
    "  \n",
    "  # Predictions for the training, validation, and test data.\n",
    "  train_prediction = tf.nn.softmax(logits)\n",
    "  valid_prediction = tf.nn.relu(tf.matmul(tf_valid_dataset, weights) + biases)\n",
    "  valid_prediction = tf.nn.relu(tf.matmul(valid_prediction,weights2) + biases2)\n",
    "  valid_prediction = tf.nn.softmax(tf.matmul(valid_prediction,weights3) + biases3)\n",
    "    \n",
    "  test_prediction = tf.nn.relu(tf.matmul(tf_test_dataset, weights) + biases)\n",
    "  test_prediction = tf.nn.relu(tf.matmul(test_prediction,weights2) + biases2)\n",
    "  test_prediction = tf.nn.softmax(tf.matmul(test_prediction,weights3) + biases3)\n",
    "    \n"
   ]
  },
  {
   "cell_type": "code",
   "execution_count": 100,
   "metadata": {},
   "outputs": [],
   "source": [
    "def accuracy(predictions, labels):\n",
    "  return (100.0 * np.sum(np.argmax(predictions, 1) == np.argmax(labels, 1))\n",
    "          / predictions.shape[0])"
   ]
  },
  {
   "cell_type": "markdown",
   "metadata": {
    "colab_type": "text",
    "id": "XmVZESmtG4JH"
   },
   "source": [
    "Let's run it:"
   ]
  },
  {
   "cell_type": "code",
   "execution_count": 101,
   "metadata": {
    "cellView": "both",
    "colab": {
     "autoexec": {
      "startup": false,
      "wait_interval": 0
     },
     "output_extras": [
      {
       "item_id": 6
      }
     ]
    },
    "colab_type": "code",
    "executionInfo": {
     "elapsed": 66292,
     "status": "ok",
     "timestamp": 1449848003013,
     "user": {
      "color": "",
      "displayName": "",
      "isAnonymous": false,
      "isMe": true,
      "permissionId": "",
      "photoUrl": "",
      "sessionId": "0",
      "userId": ""
     },
     "user_tz": 480
    },
    "id": "FoF91pknG_YW",
    "outputId": "d255c80e-954d-4183-ca1c-c7333ce91d0a"
   },
   "outputs": [
    {
     "name": "stdout",
     "output_type": "stream",
     "text": [
      "Initialized\n",
      "Tensor(\"ExponentialDecay:0\", shape=(), dtype=float32)\n",
      "Minibatch loss at step 0: 612349.125000\n",
      "Minibatch accuracy: 24.2%\n",
      "Validation accuracy: 18.8%\n",
      "Tensor(\"ExponentialDecay:0\", shape=(), dtype=float32)\n",
      "Minibatch loss at step 200: 582289.250000\n",
      "Minibatch accuracy: 23.4%\n",
      "Validation accuracy: 19.7%\n",
      "Tensor(\"ExponentialDecay:0\", shape=(), dtype=float32)\n",
      "Minibatch loss at step 400: 542884.125000\n",
      "Minibatch accuracy: 22.7%\n",
      "Validation accuracy: 20.4%\n",
      "Tensor(\"ExponentialDecay:0\", shape=(), dtype=float32)\n",
      "Minibatch loss at step 600: 539751.062500\n",
      "Minibatch accuracy: 35.2%\n",
      "Validation accuracy: 20.8%\n",
      "Tensor(\"ExponentialDecay:0\", shape=(), dtype=float32)\n",
      "Minibatch loss at step 800: 535496.937500\n",
      "Minibatch accuracy: 27.3%\n",
      "Validation accuracy: 21.2%\n",
      "Tensor(\"ExponentialDecay:0\", shape=(), dtype=float32)\n",
      "Minibatch loss at step 1000: 555643.250000\n",
      "Minibatch accuracy: 22.7%\n",
      "Validation accuracy: 21.4%\n",
      "Tensor(\"ExponentialDecay:0\", shape=(), dtype=float32)\n",
      "Minibatch loss at step 1200: 521921.968750\n",
      "Minibatch accuracy: 21.9%\n",
      "Validation accuracy: 21.7%\n",
      "Tensor(\"ExponentialDecay:0\", shape=(), dtype=float32)\n",
      "Minibatch loss at step 1400: 514220.906250\n",
      "Minibatch accuracy: 24.2%\n",
      "Validation accuracy: 21.7%\n",
      "Tensor(\"ExponentialDecay:0\", shape=(), dtype=float32)\n",
      "Minibatch loss at step 1600: 513592.906250\n",
      "Minibatch accuracy: 28.1%\n",
      "Validation accuracy: 21.7%\n",
      "Tensor(\"ExponentialDecay:0\", shape=(), dtype=float32)\n",
      "Minibatch loss at step 1800: 521665.468750\n",
      "Minibatch accuracy: 31.2%\n",
      "Validation accuracy: 21.8%\n",
      "Tensor(\"ExponentialDecay:0\", shape=(), dtype=float32)\n",
      "Minibatch loss at step 2000: 507972.343750\n",
      "Minibatch accuracy: 21.9%\n",
      "Validation accuracy: 21.9%\n",
      "Tensor(\"ExponentialDecay:0\", shape=(), dtype=float32)\n",
      "Minibatch loss at step 2200: 477989.843750\n",
      "Minibatch accuracy: 22.7%\n",
      "Validation accuracy: 21.9%\n",
      "Tensor(\"ExponentialDecay:0\", shape=(), dtype=float32)\n",
      "Minibatch loss at step 2400: 476205.062500\n",
      "Minibatch accuracy: 27.3%\n",
      "Validation accuracy: 22.0%\n",
      "Tensor(\"ExponentialDecay:0\", shape=(), dtype=float32)\n",
      "Minibatch loss at step 2600: 484844.000000\n",
      "Minibatch accuracy: 22.7%\n",
      "Validation accuracy: 22.2%\n",
      "Tensor(\"ExponentialDecay:0\", shape=(), dtype=float32)\n",
      "Minibatch loss at step 2800: 484600.343750\n",
      "Minibatch accuracy: 21.1%\n",
      "Validation accuracy: 22.2%\n",
      "Tensor(\"ExponentialDecay:0\", shape=(), dtype=float32)\n",
      "Minibatch loss at step 3000: 487149.812500\n",
      "Minibatch accuracy: 22.7%\n",
      "Validation accuracy: 22.4%\n",
      "Test accuracy: 23.9%\n"
     ]
    }
   ],
   "source": [
    "num_steps = 3001\n",
    "\n",
    "with tf.Session(graph=graph) as session:\n",
    "  tf.global_variables_initializer().run()\n",
    "  print(\"Initialized\")\n",
    "  for step in range(num_steps):\n",
    "    # Pick an offset within the training data, which has been randomized.\n",
    "    # Note: we could use better randomization across epochs.\n",
    "    offset = (step * batch_size) % (train_labels.shape[0] - batch_size)\n",
    "    #print(offset)\n",
    "    # Generate a minibatch.\n",
    "    batch_data = train_dataset[offset:(offset + batch_size), :]\n",
    "    batch_labels = train_labels[offset:(offset + batch_size), :]\n",
    "    # Prepare a dctionary telling the session where to feed the minibatch.\n",
    "    # The key of the dictionary is the placeholder node of the graph to be fed,\n",
    "    # and the value is the numpy array to feed to it.\n",
    "    feed_dict = {tf_train_dataset : batch_data, tf_train_labels : batch_labels}\n",
    "    _, l, predictions = session.run(\n",
    "      [optimizer, loss, train_prediction], feed_dict=feed_dict)\n",
    "    if (step % 500 == 0):\n",
    "      print(learning_rate)\n",
    "      print(\"Minibatch loss at step %d: %f\" % (step, l))\n",
    "      print(\"Minibatch accuracy: %.1f%%\" % accuracy(predictions, batch_labels))\n",
    "      print(\"Validation accuracy: %.1f%%\" % accuracy(\n",
    "        valid_prediction.eval(), valid_labels))\n",
    "  print(\"Test accuracy: %.1f%%\" % accuracy(test_prediction.eval(), test_labels))"
   ]
  },
  {
   "cell_type": "code",
   "execution_count": null,
   "metadata": {},
   "outputs": [],
   "source": []
  }
 ],
 "metadata": {
  "colab": {
   "default_view": {},
   "name": "2_fullyconnected.ipynb",
   "provenance": [],
   "version": "0.3.2",
   "views": {}
  },
  "kernelspec": {
   "display_name": "Python 2",
   "language": "python",
   "name": "python2"
  },
  "language_info": {
   "codemirror_mode": {
    "name": "ipython",
    "version": 2
   },
   "file_extension": ".py",
   "mimetype": "text/x-python",
   "name": "python",
   "nbconvert_exporter": "python",
   "pygments_lexer": "ipython2",
   "version": "2.7.12"
  }
 },
 "nbformat": 4,
 "nbformat_minor": 1
}
